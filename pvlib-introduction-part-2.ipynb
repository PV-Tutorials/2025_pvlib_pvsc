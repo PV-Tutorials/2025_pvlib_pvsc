{
 "cells": [
  {
   "attachments": {},
   "cell_type": "markdown",
   "metadata": {
    "id": "__dWsDewn7UD"
   },
   "source": [
    "![tutorial banner](https://github.com/PV-Tutorials/2025_pvlib_pvsc/blob/main/static/pvlib_pvsc_logo.png?raw=true)\n",
    "\n",
    "# PART 2-  PV Systems Modeling with Python\n",
    "\n",
    "Welcome to the 2025 PVSC tutorial on **PV Systems modeling with Python**. This tutorial will give an interactive introduction to how to model photovoltaic (PV) system energy yield using the open-source software [pvlib-python](https://pvlib-python.readthedocs.io/).\n",
    "\n",
    "It is recommended to first complete Part 1 of the tutorial, which gives an introduction to Google Colab and how to retrieve irradiance data using pvlib. Part 1 can be found [here](https://colab.research.google.com/github/PV-Tutorials/2025_pvlib_pvsc/blob/main/pvlib-introduction-part-1.ipynb).\n",
    "\n",
    "We will be modeling the energy yield of a single-axis tracking (SAT) with bifacial modules. The specific plant is a 465 MW plant in Alberta, Canada called the [Travers Solar Project](https://en.wikipedia.org/wiki/Travers_Solar_Project).\n",
    "\n",
    "![Travers Solar Power Plant](https://www.cip.com/media/j33jqebc/misae-usa_06.jpg?width=2592&height=1296&rnd=133467632437370000)\n",
    "_Credit: Copenhagen Infrastructure Partners [3]._"
   ]
  },
  {
   "cell_type": "markdown",
   "metadata": {
    "id": "__dWsDewn7UD"
   },
   "source": [
    "The following parameters have been estimated based on freely available data online or estimated:\n",
    "\n",
    "**General information**\n",
    "- Coordinates [1]: 50.267, -112.718\n",
    "- Project life [2]: 35+ years\n",
    "\n",
    "**Plant layout and configuration**\n",
    "* Mounting: single-axis trackers\n",
    "* Tracking axis: north-south (0 degrees)\n",
    "* Module configuration: one-in-portrait (1P)\n",
    "* Max rotation: 55 degrees (_estimate_)\n",
    "* Pitch [2]: 6.67m\n",
    "* Torque tube height: 1.8 m (_estimate_)\n",
    "\n",
    "**Modules**\n",
    "* Total capacity [3]: 691 MWdc\n",
    "* No. of modules [3]: approx. 1,300,000\n",
    "* Module nameplate capacity: ~530W\n",
    "* Technology [4]: bifacial monocrystalline\n",
    "* Manufacturer [4]: Jinko\n",
    "* Module model : [datasheet (_example_)](https://www.starworld-tech.com/half-cell-solar-panel/jinko-tiger-pro-bifacial-530-550w-.html)\n",
    "* Bifaciality: 70% (_estimate_)\n",
    "\n",
    "**Inverters**\n",
    "* Total output [3]: 465 MWac\n",
    "* Number of inverters [2]: 153\n",
    "* Inverter type: central\n",
    "\n",
    "## References\n",
    "- [1] https://en.wikipedia.org/wiki/Travers_Solar_Project\n",
    "- [2] https://www.traverssolar.ca/ (Oct. 2020 Project Map and Feb. 2019 Open House Boards)\n",
    "- [3] https://www.cip.com/approach/our-projects/travers/\n",
    "- [4] https://www.power-technology.com/projects/travers-solar-project-alberta-canada."
   ]
  },
  {
   "cell_type": "markdown",
   "metadata": {
    "id": "orRWLccIn7UP"
   },
   "source": [
    "## Step 1: Install pvlib\n",
    "\n",
    "First, we need to get pvlib installed in the Colab environment.  Select the code cell below (left click) and execute it (shift+enter) to automatically download and install pvlib:"
   ]
  },
  {
   "cell_type": "code",
   "execution_count": null,
   "metadata": {
    "colab": {
     "base_uri": "https://localhost:8080/"
    },
    "id": "c2QraVuun7UQ",
    "outputId": "55f8eb17-6be6-457a-a70a-a729543b0e4f"
   },
   "outputs": [],
   "source": [
    "!pip install pvlib==0.13.0"
   ]
  },
  {
   "cell_type": "code",
   "execution_count": 1,
   "metadata": {
    "colab": {
     "base_uri": "https://localhost:8080/"
    },
    "id": "c2QraVuun7UQ",
    "outputId": "55f8eb17-6be6-457a-a70a-a729543b0e4f"
   },
   "outputs": [],
   "source": [
    "# Import libraries\n",
    "import pvlib\n",
    "import pandas as pd\n",
    "import matplotlib.pyplot as plt"
   ]
  },
  {
   "cell_type": "markdown",
   "metadata": {
    "id": "fCeAgQ_J70SO"
   },
   "source": [
    "## Step 2: Irradiance data\n",
    "This step was covered in Part 1 of the tutorial. You may copy your code from Part 1 or use the code below."
   ]
  },
  {
   "cell_type": "code",
   "execution_count": 5,
   "metadata": {
    "id": "ywbl317d70dg"
   },
   "outputs": [
    {
     "data": {
      "text/html": [
       "<div>\n",
       "<style scoped>\n",
       "    .dataframe tbody tr th:only-of-type {\n",
       "        vertical-align: middle;\n",
       "    }\n",
       "\n",
       "    .dataframe tbody tr th {\n",
       "        vertical-align: top;\n",
       "    }\n",
       "\n",
       "    .dataframe thead th {\n",
       "        text-align: right;\n",
       "    }\n",
       "</style>\n",
       "<table border=\"1\" class=\"dataframe\">\n",
       "  <thead>\n",
       "    <tr style=\"text-align: right;\">\n",
       "      <th></th>\n",
       "      <th>temp_air</th>\n",
       "      <th>relative_humidity</th>\n",
       "      <th>ghi</th>\n",
       "      <th>dni</th>\n",
       "      <th>dhi</th>\n",
       "      <th>IR(h)</th>\n",
       "      <th>wind_speed</th>\n",
       "      <th>wind_direction</th>\n",
       "      <th>pressure</th>\n",
       "    </tr>\n",
       "    <tr>\n",
       "      <th>time(UTC)</th>\n",
       "      <th></th>\n",
       "      <th></th>\n",
       "      <th></th>\n",
       "      <th></th>\n",
       "      <th></th>\n",
       "      <th></th>\n",
       "      <th></th>\n",
       "      <th></th>\n",
       "      <th></th>\n",
       "    </tr>\n",
       "  </thead>\n",
       "  <tbody>\n",
       "    <tr>\n",
       "      <th>2007-01-01 00:30:00+00:00</th>\n",
       "      <td>-8.40</td>\n",
       "      <td>57.80</td>\n",
       "      <td>0.0</td>\n",
       "      <td>0.0</td>\n",
       "      <td>0.0</td>\n",
       "      <td>191.29</td>\n",
       "      <td>2.13</td>\n",
       "      <td>218.0</td>\n",
       "      <td>91470.0</td>\n",
       "    </tr>\n",
       "    <tr>\n",
       "      <th>2007-01-01 01:30:00+00:00</th>\n",
       "      <td>-8.04</td>\n",
       "      <td>58.36</td>\n",
       "      <td>0.0</td>\n",
       "      <td>0.0</td>\n",
       "      <td>0.0</td>\n",
       "      <td>194.68</td>\n",
       "      <td>2.12</td>\n",
       "      <td>278.0</td>\n",
       "      <td>91450.0</td>\n",
       "    </tr>\n",
       "    <tr>\n",
       "      <th>2007-01-01 02:30:00+00:00</th>\n",
       "      <td>-7.69</td>\n",
       "      <td>58.93</td>\n",
       "      <td>0.0</td>\n",
       "      <td>0.0</td>\n",
       "      <td>0.0</td>\n",
       "      <td>198.08</td>\n",
       "      <td>2.12</td>\n",
       "      <td>286.0</td>\n",
       "      <td>91460.0</td>\n",
       "    </tr>\n",
       "    <tr>\n",
       "      <th>2007-01-01 03:30:00+00:00</th>\n",
       "      <td>-7.33</td>\n",
       "      <td>59.49</td>\n",
       "      <td>0.0</td>\n",
       "      <td>0.0</td>\n",
       "      <td>0.0</td>\n",
       "      <td>201.47</td>\n",
       "      <td>2.11</td>\n",
       "      <td>281.0</td>\n",
       "      <td>91470.0</td>\n",
       "    </tr>\n",
       "    <tr>\n",
       "      <th>2007-01-01 04:30:00+00:00</th>\n",
       "      <td>-6.98</td>\n",
       "      <td>60.05</td>\n",
       "      <td>0.0</td>\n",
       "      <td>0.0</td>\n",
       "      <td>0.0</td>\n",
       "      <td>204.87</td>\n",
       "      <td>2.11</td>\n",
       "      <td>278.0</td>\n",
       "      <td>91470.0</td>\n",
       "    </tr>\n",
       "  </tbody>\n",
       "</table>\n",
       "</div>"
      ],
      "text/plain": [
       "                           temp_air  relative_humidity  ghi  dni  dhi   IR(h)  \\\n",
       "time(UTC)                                                                       \n",
       "2007-01-01 00:30:00+00:00     -8.40              57.80  0.0  0.0  0.0  191.29   \n",
       "2007-01-01 01:30:00+00:00     -8.04              58.36  0.0  0.0  0.0  194.68   \n",
       "2007-01-01 02:30:00+00:00     -7.69              58.93  0.0  0.0  0.0  198.08   \n",
       "2007-01-01 03:30:00+00:00     -7.33              59.49  0.0  0.0  0.0  201.47   \n",
       "2007-01-01 04:30:00+00:00     -6.98              60.05  0.0  0.0  0.0  204.87   \n",
       "\n",
       "                           wind_speed  wind_direction  pressure  \n",
       "time(UTC)                                                        \n",
       "2007-01-01 00:30:00+00:00        2.13           218.0   91470.0  \n",
       "2007-01-01 01:30:00+00:00        2.12           278.0   91450.0  \n",
       "2007-01-01 02:30:00+00:00        2.12           286.0   91460.0  \n",
       "2007-01-01 03:30:00+00:00        2.11           281.0   91470.0  \n",
       "2007-01-01 04:30:00+00:00        2.11           278.0   91470.0  "
      ]
     },
     "execution_count": 5,
     "metadata": {},
     "output_type": "execute_result"
    }
   ],
   "source": [
    "location = pvlib.location.Location(latitude=50.267, longitude=-112.718)\n",
    "\n",
    "data, meta = pvlib.iotools.get_pvgis_tmy(\n",
    "    location.latitude, location.longitude)\n",
    "\n",
    "data.index = data.index + pd.Timedelta(minutes=30)\n",
    "\n",
    "data.head()"
   ]
  },
  {
   "cell_type": "markdown",
   "metadata": {
    "id": "ywbl317d70dg"
   },
   "source": [
    "## Step 3: Calculate solar position\n",
    "This step was covered in Part 1 of the tutorial. You may copy your code from Part 1 or use the code below.\n"
   ]
  },
  {
   "cell_type": "code",
   "execution_count": 6,
   "metadata": {
    "id": "ywbl317d70dg"
   },
   "outputs": [
    {
     "data": {
      "text/html": [
       "<div>\n",
       "<style scoped>\n",
       "    .dataframe tbody tr th:only-of-type {\n",
       "        vertical-align: middle;\n",
       "    }\n",
       "\n",
       "    .dataframe tbody tr th {\n",
       "        vertical-align: top;\n",
       "    }\n",
       "\n",
       "    .dataframe thead th {\n",
       "        text-align: right;\n",
       "    }\n",
       "</style>\n",
       "<table border=\"1\" class=\"dataframe\">\n",
       "  <thead>\n",
       "    <tr style=\"text-align: right;\">\n",
       "      <th></th>\n",
       "      <th>apparent_zenith</th>\n",
       "      <th>zenith</th>\n",
       "      <th>apparent_elevation</th>\n",
       "      <th>elevation</th>\n",
       "      <th>azimuth</th>\n",
       "      <th>equation_of_time</th>\n",
       "    </tr>\n",
       "    <tr>\n",
       "      <th>time(UTC)</th>\n",
       "      <th></th>\n",
       "      <th></th>\n",
       "      <th></th>\n",
       "      <th></th>\n",
       "      <th></th>\n",
       "      <th></th>\n",
       "    </tr>\n",
       "  </thead>\n",
       "  <tbody>\n",
       "    <tr>\n",
       "      <th>2007-01-01 00:30:00+00:00</th>\n",
       "      <td>97.979425</td>\n",
       "      <td>97.979425</td>\n",
       "      <td>-7.979425</td>\n",
       "      <td>-7.979425</td>\n",
       "      <td>243.263202</td>\n",
       "      <td>-3.200686</td>\n",
       "    </tr>\n",
       "    <tr>\n",
       "      <th>2007-01-01 01:30:00+00:00</th>\n",
       "      <td>106.892451</td>\n",
       "      <td>106.892451</td>\n",
       "      <td>-16.892451</td>\n",
       "      <td>-16.892451</td>\n",
       "      <td>254.054390</td>\n",
       "      <td>-3.220417</td>\n",
       "    </tr>\n",
       "    <tr>\n",
       "      <th>2007-01-01 02:30:00+00:00</th>\n",
       "      <td>116.299020</td>\n",
       "      <td>116.299020</td>\n",
       "      <td>-26.299020</td>\n",
       "      <td>-26.299020</td>\n",
       "      <td>264.922853</td>\n",
       "      <td>-3.240140</td>\n",
       "    </tr>\n",
       "    <tr>\n",
       "      <th>2007-01-01 03:30:00+00:00</th>\n",
       "      <td>125.864436</td>\n",
       "      <td>125.864436</td>\n",
       "      <td>-35.864436</td>\n",
       "      <td>-35.864436</td>\n",
       "      <td>276.558858</td>\n",
       "      <td>-3.259853</td>\n",
       "    </tr>\n",
       "    <tr>\n",
       "      <th>2007-01-01 04:30:00+00:00</th>\n",
       "      <td>135.177002</td>\n",
       "      <td>135.177002</td>\n",
       "      <td>-45.177002</td>\n",
       "      <td>-45.177002</td>\n",
       "      <td>290.003573</td>\n",
       "      <td>-3.279557</td>\n",
       "    </tr>\n",
       "  </tbody>\n",
       "</table>\n",
       "</div>"
      ],
      "text/plain": [
       "                           apparent_zenith      zenith  apparent_elevation  \\\n",
       "time(UTC)                                                                    \n",
       "2007-01-01 00:30:00+00:00        97.979425   97.979425           -7.979425   \n",
       "2007-01-01 01:30:00+00:00       106.892451  106.892451          -16.892451   \n",
       "2007-01-01 02:30:00+00:00       116.299020  116.299020          -26.299020   \n",
       "2007-01-01 03:30:00+00:00       125.864436  125.864436          -35.864436   \n",
       "2007-01-01 04:30:00+00:00       135.177002  135.177002          -45.177002   \n",
       "\n",
       "                           elevation     azimuth  equation_of_time  \n",
       "time(UTC)                                                           \n",
       "2007-01-01 00:30:00+00:00  -7.979425  243.263202         -3.200686  \n",
       "2007-01-01 01:30:00+00:00 -16.892451  254.054390         -3.220417  \n",
       "2007-01-01 02:30:00+00:00 -26.299020  264.922853         -3.240140  \n",
       "2007-01-01 03:30:00+00:00 -35.864436  276.558858         -3.259853  \n",
       "2007-01-01 04:30:00+00:00 -45.177002  290.003573         -3.279557  "
      ]
     },
     "execution_count": 6,
     "metadata": {},
     "output_type": "execute_result"
    }
   ],
   "source": [
    "# Write your code here to calculate solar position\n",
    "solar_position = location.get_solarposition(data.index)\n",
    "\n",
    "solar_position.head()"
   ]
  },
  {
   "cell_type": "markdown",
   "metadata": {
    "id": "S6IhoBRU9oid"
   },
   "source": [
    "## Step 4: Calculate tracker orientations\n",
    "\n",
    "The next step is to determine the orientation (rotation) of the single-axis trackers as this influences the incident irradiance.\n",
    "\n",
    "The orientation of a single-axis tracker can be calculated using the [``pvlib.tracking.singleaxis``](https://pvlib-python.readthedocs.io/en/stable/reference/generated/pvlib.tracking.singleaxis.html) function.\n",
    "\n",
    "You may assume that the tracking axis has the typical orientation of north-south, which corresponds to ``axis_azimuth=0``. Also, we will assume that the SAT features backtracking and has a maximum tracker rotation angle of 55 degrees.\n",
    "\n",
    "Last, you may notice that the ground coverage ratio (GCR) is also needed but hasn't been provided. This dimensionless ratio can be calculated by dividing the module length (given that it is a 1P configuration) by the pitch (row-to-row distance)."
   ]
  },
  {
   "cell_type": "code",
   "execution_count": null,
   "metadata": {
    "id": "S6IhoBRU9oid"
   },
   "outputs": [],
   "source": [
    "max_tracker_angle = 55  # [degrees]\n",
    "pitch = 6.67  # [m] center-to-center tracker spacing in the horizontal dimension\n",
    "module_length =  # [m] from datasheet\n",
    "gcr = \n",
    "\n",
    "# calculate tracker rotations for a single-axis tracker\n",
    "tracker_orientations = \n",
    "\n",
    "# Print five first non-nan rows\n",
    "tracker_orientations.dropna().head()"
   ]
  },
  {
   "cell_type": "markdown",
   "metadata": {
    "id": "S6IhoBRU9oid"
   },
   "source": [
    "## Step 5: Calculate plane of array irradiance\n",
    "The irradiance data we obtained from PVGIS contains the three standard components:\n",
    "- global horizontal irradiance (GHI)\n",
    "- diffuse horizontal irradiance (DHI)\n",
    "- direct normal irradiance (DNI)\n",
    "\n",
    "However, to determine PV generation, we need to know the incident irradiance on the module surface, which is denoted as plane of array (POA) irradiance. Additionally, since we are working with bifacial modules, we need to estimate both the front and rear-side POA irradiance.\n",
    "\n",
    "To do this, we will be using pvlib's [infinite sheds bifacial model](https://pvlib-python.readthedocs.io/en/stable/user_guide/bifacial.html#infinite-sheds) which is based on view factors and assumes the PV system comprises of parallel, evenly spaced rows on a level, horizontal surface. The function is called [``pvlib.bifacial.infinite_sheds.get_irradiance``](https://pvlib-python.readthedocs.io/en/stable/reference/generated/pvlib.bifacial.infinite_sheds.get_irradiance.html).\n",
    "\n",
    "**Can you use the infinite sheds model to calculate front and rear side irradiance?** Remember you have determined the tracker orientation in the previous step."
   ]
  },
  {
   "cell_type": "code",
   "execution_count": null,
   "metadata": {
    "id": "cQRma_bz9ovk"
   },
   "outputs": [],
   "source": [
    "# Write your code here to calculate plane of array irradiance\n",
    "\n",
    "dni_extra = pvlib.irradiance.get_extra_radiation(data.index)\n",
    "\n",
    "front_rear_irradiance = pvlib.bifacial.infinite_sheds.get_irradiance(\n",
    "    # fill in all the necessary inputs\n",
    "    #\n",
    "    #\n",
    "    #\n",
    ")\n",
    "\n",
    "# Print five first non-nan rows\n",
    "front_rear_irradiance.dropna().head()"
   ]
  },
  {
   "cell_type": "markdown",
   "metadata": {},
   "source": [
    "## Step 6: Calculate module temperature\n",
    "\n",
    "The power efficiency of a PV module depends on its temperature (roughly, a 0.4% decrease in power for every increase in degrees C).  Module temperature can be estimated based on ambient temperature, POA irradiance, and wind speed.\n",
    "\n",
    "pvlib includes several models for estimating module temperature. Can you find one in the documentation?"
   ]
  },
  {
   "cell_type": "code",
   "execution_count": 7,
   "metadata": {},
   "outputs": [],
   "source": [
    "# Write your code here to calculate module temperature using a model of your choosing\n",
    "module_temperature = \n"
   ]
  },
  {
   "cell_type": "markdown",
   "metadata": {
    "id": "Zp8gfHoj-bZ3"
   },
   "source": [
    "## Step 7: Calculate DC PV power\n",
    "\n",
    "With the plane of array irradiance and module temperature ready, we can now estimate the PV output power.  There are several modeling approaches available here, including:\n",
    "\n",
    "* Simple efficiency (like in PVWatts)\n",
    "* Single-diode models, like in PVsyst and SAM\n",
    "* Empirical methods like the SAPM\n",
    "\n",
    "Each type of these PV models requires different types of parameters.  They all produce estimates of the maximum power point (MPP), while the fancier ones also estimate other quantities like open circuit voltage and short circuit current.\n",
    "\n",
    "The simplest option is to use [``pvlib.pvsystem.pvwatts_dc``](https://pvlib-python.readthedocs.io/en/stable/reference/generated/pvlib.pvsystem.pvwatts_dc.html).  Can you use it with the POA irradiance and module temperature to estimate the output power for one module?\n",
    "\n",
    "*Note: for this exercise you may assume that the module and cell temperature are the same.*"
   ]
  },
  {
   "cell_type": "code",
   "execution_count": 11,
   "metadata": {
    "id": "k3xKoWFA-bkW"
   },
   "outputs": [
    {
     "data": {
      "text/plain": [
       "<Axes: >"
      ]
     },
     "execution_count": 11,
     "metadata": {},
     "output_type": "execute_result"
    },
    {
     "data": {
      "image/png": "[encoded data removed]",
      "text/plain": [
       "<Figure size 640x480 with 1 Axes>"
      ]
     },
     "metadata": {},
     "output_type": "display_data"
    }
   ],
   "source": [
    "pdc0 = # [W] Nominal power at STC\n",
    "gamma_pdc = -0.003  # [%/degC] Pmax temperature coefficient\n",
    "\n",
    "# Write your code here to calculate PV power\n",
    "dc_power = \n",
    "\n",
    "\n",
    "dc_power.plot() # plot results"
   ]
  },
  {
   "cell_type": "markdown",
   "metadata": {
    "id": "k3xKoWFA-bkW"
   },
   "source": [
    "## Step 8: Reflect on the exercise\n",
    "\n",
    "We managed to model the output of one panel, how do you think we can extend the model workflow to simulate a full system?\n",
    "\n",
    "Last, this exercise made a number of simplifications. Can you name some? How do you think the accuracy was affected?"
   ]
  },
  {
   "cell_type": "markdown",
   "metadata": {
    "id": "JreBQIskn7U9"
   },
   "source": [
    "[![Creative Commons License](https://i.creativecommons.org/l/by/4.0/88x31.png)](http://creativecommons.org/licenses/by/4.0/)\n",
    "\n",
    "This work is licensed under a [Creative Commons Attribution 4.0 International License](http://creativecommons.org/licenses/by/4.0/)."
   ]
  }
 ],
 "metadata": {
  "colab": {
   "provenance": []
  },
  "kernelspec": {
   "display_name": "Python 3 (ipykernel)",
   "language": "python",
   "name": "python3"
  },
  "language_info": {
   "codemirror_mode": {
    "name": "ipython",
    "version": 3
   },
   "file_extension": ".py",
   "mimetype": "text/x-python",
   "name": "python",
   "nbconvert_exporter": "python",
   "pygments_lexer": "ipython3",
   "version": "3.11.7"
  }
 },
 "nbformat": 4,
 "nbformat_minor": 4
}
